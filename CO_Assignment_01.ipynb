{
  "nbformat": 4,
  "nbformat_minor": 0,
  "metadata": {
    "colab": {
      "name": "CO_Assignment_01.ipynb",
      "provenance": [],
      "collapsed_sections": [],
      "include_colab_link": true
    },
    "kernelspec": {
      "name": "python3",
      "display_name": "Python 3"
    }
  },
  "cells": [
    {
      "cell_type": "markdown",
      "metadata": {
        "id": "view-in-github",
        "colab_type": "text"
      },
      "source": [
        "<a href=\"https://colab.research.google.com/github/mdf04414/mdf04414/blob/main/CO_Assignment_01.ipynb\" target=\"_parent\"><img src=\"https://colab.research.google.com/assets/colab-badge.svg\" alt=\"Open In Colab\"/></a>"
      ]
    },
    {
      "cell_type": "markdown",
      "metadata": {
        "id": "xTCUJiE31SE7"
      },
      "source": [
        "# Unsigned Adder\n",
        "Our objective is to understand and build an Adder that is able to add unsigned bits. "
      ]
    },
    {
      "cell_type": "markdown",
      "metadata": {
        "id": "P_-0473bDTye"
      },
      "source": [
        "## Question - 1\n",
        "Write Python code that does the following. \n",
        "\n",
        "- Create the following functions, that will return the appropriate response as mentioned below for a given input bit.\n",
        "    - function: **and_gate()**, Input: **input_value_a**, **input_value_b** where input_value_a and input_value_b should be unsigned four bit binary value but they may not always have 4 bits in which case we prefix the required number of 0's to make it of length 4, Ex: 01 is considered as 0001 This function should return the appropraite value as an AND GATE operation on the following inputs would for the given two input bits\n",
        "        - Ex: input_value_a = 1110, input_value_b = 1010 then input_value_a AND input_value_b would result in output_value = 1010\n",
        "    - function: **or_gate()**, Input: **input_value_a**, **input_value_b** where input_value_a and input_value_b should be unsigned four bit binary value but they may not always have 4 bits in which case we prefix the required number of 0's to make it of length 4, Ex: 01 is considered as 0001 This function should return the appropraite value as an OR GATE operation on the following inputs would for the given two input bits\n",
        "        - Ex: input_value_a = 1110, input_value_b = 1010 then input_value_a OR input_value_b would result in output_value = 1110\n",
        "    - function: **xor_gate()**, Input: **input_value_a**, **input_value_b** where input_value_a and input_value_b should be unsigned four bit binary value but they may not always have 4 bits in which case we prefix the required number of 0's to make it of length 4, Ex: 01 is considered as 0001 This function should return the appropraite value as an XOR GATE operation on the following inputs would for the given two input bits\n",
        "        - Ex: input_value_a = 1110, input_value_b = 1010 then input_value_a XNOR input_value_b would result in output_value = 0100\n",
        "    - function: **not_gate()**, Input: **input_value** where input_value should be unsigned N bit binary value. This function should return the appropraite value as an NOT GATE operation on the following inputs would for the given input bits\n",
        "        - Ex: input_value = 110, then result in output_value = 001\n",
        "\n",
        "**Conditions to follow:**\n",
        "- The output should be a string format similar to test cases mentioned below\n",
        "- **IMPORTANT: You cannot use any Python [mathematical operators](https://www.w3schools.com/python/gloss_python_arithmetic_operators.asp) in your solution.**\n",
        "- Inbuilt functions which require no import and Datatype methods can be used to solve this problem but No arbitray functions or library can be used.\n",
        "- No other function name can be defined/declared than the ones asked to be declared in any of the questions presented in this notebook.\n",
        "\n",
        "\n",
        "\n",
        "---\n",
        "\n",
        "TEST CASES:\n",
        "\n",
        "```\n",
        "Input A: 01 AND Input B: 1111 is 0001\n",
        "\n",
        "Input A: 01 OR Input B: 1111 is 1111\n",
        "\n",
        "Input A: 01 XOR Input B: 1111 is 1110\n",
        "\n",
        "Input A: 01 NOT is 10, Input B: 1111 NOT is 0000\n",
        "\n",
        "Input A: 1010 AND Input B: 101 is 0000\n",
        "\n",
        "Input A: 1010 OR Input B: 101 is 1111\n",
        "\n",
        "Input A: 1010 XOR Input B: 101 is 1111\n",
        "\n",
        "Input A: 1010 NOT is 0101, Input B: 101 NOT is 010\n",
        "```\n",
        "---\n",
        "\n",
        "Hint: You can use built in methods and data type/string methods to create the solution to solve this problem.\n",
        "You can come up with a solution that does not use this hint but it should satisfy all the TEST CASES."
      ]
    },
    {
      "cell_type": "markdown",
      "metadata": {
        "id": "gR7eOt_rDTyh"
      },
      "source": [
        "### Code"
      ]
    },
    {
      "cell_type": "code",
      "metadata": {
        "id": "f3ky7fFZDTyl",
        "colab": {
          "base_uri": "https://localhost:8080/"
        },
        "outputId": "52e4e581-85fe-4d57-89f2-f113eb1818d6"
      },
      "source": [
        "# DECLARE the function and_gate()\n",
        "def and_gate(input_value_a, input_value_b):\n",
        "    # We will add zeros to the MSB if the length is less than 4\n",
        "    input_value_a = input_value_a.zfill(4)\n",
        "    input_value_b = input_value_b.zfill(4)\n",
        "    # Initialize the output_value_list\n",
        "    output_value_list = []\n",
        "    # Iterate over both input, bit by bit\n",
        "    for bit_a, bit_b in zip(input_value_a, input_value_b):\n",
        "        # AND GATE output is 1 only when both inputs are 1 and 0 otherwise\n",
        "        output_value_list.append('1' if (bit_a == '1') and (bit_b == '1') else '0')\n",
        "    # Return the output value as string        \n",
        "    return \"\".join(output_value_list)\n",
        "\n",
        "# DECLARE the function or_gate()\n",
        "def or_gate(input_value_a, input_value_b):\n",
        "    # We will add zeros to the MSB if the length is less than 4\n",
        "    input_value_a = input_value_a.zfill(4)\n",
        "    input_value_b = input_value_b.zfill(4)\n",
        "    # Initialize the output_value_list\n",
        "    output_value_list = []\n",
        "    # Iterate over both input, bit by bit\n",
        "    for bit_a, bit_b in zip(input_value_a, input_value_b):\n",
        "        # OR GATE output is 1 only when either inputs are 1 and 0 otherwise\n",
        "        output_value_list.append('1' if (bit_a == '1') or (bit_b == '1') else '0')\n",
        "    # Return the output value as string        \n",
        "    return \"\".join(output_value_list)\n",
        "\n",
        "# DECLARE the function xor_gate()\n",
        "def xor_gate(input_value_a, input_value_b):\n",
        "    # We will add zeros to the MSB if the length is less than 4\n",
        "    input_value_a = input_value_a.zfill(4)\n",
        "    input_value_b = input_value_b.zfill(4)\n",
        "    # Initialize the output_value_list\n",
        "    output_value_list = []\n",
        "    # Iterate over both input, bit by bit\n",
        "    for bit_a, bit_b in zip(input_value_a, input_value_b):\n",
        "        # XOR GATE output is 1 only when both inputs are not equal to each other and 0 otherwise\n",
        "        output_value_list.append('1' if (bit_a != bit_b) else '0')\n",
        "    # Return the output value as string        \n",
        "    return \"\".join(output_value_list)\n",
        "\n",
        "# DECLARE the function not_gate()\n",
        "def not_gate(input_value):\n",
        "    # Switch the places of 1 and 0 in the input value string\n",
        "    input_value = input_value.replace('1', 'X').replace('0', '1').replace('X', '0')\n",
        "    # Return the output value as string        \n",
        "    return input_value\n",
        "\n",
        "### TEST CASES ###\n",
        "\n",
        "# Initialize the input values\n",
        "input_value_tuple_list = [('01', '1111'), ('1010', '101')]\n",
        "for input_value_a, input_value_b in input_value_tuple_list:\n",
        "        # CALL the and_gate with required parameters\n",
        "    and_gate_output_value = and_gate(input_value_a=input_value_a, input_value_b=input_value_b)\n",
        "    # CALL the or_gate with required parameters\n",
        "    or_gate_output_value = or_gate(input_value_a=input_value_a, input_value_b=input_value_b)\n",
        "    # CALL the xor_gate with required parameters\n",
        "    xor_gate_output_value = xor_gate(input_value_a=input_value_a, input_value_b=input_value_b)\n",
        "    # CALL the not_gate with required parameters\n",
        "    not_gate_a_output_value = not_gate(input_value=input_value_a)\n",
        "    not_gate_b_output_value = not_gate(input_value=input_value_b)\n",
        "    # Print the output\n",
        "    print(\"Input A: {0} AND Input B: {1} is {2}\\n\".format(input_value_a, input_value_b, and_gate_output_value))\n",
        "    print(\"Input A: {0} OR Input B: {1} is {2}\\n\".format(input_value_a, input_value_b, or_gate_output_value))\n",
        "    print(\"Input A: {0} XOR Input B: {1} is {2}\\n\".format(input_value_a, input_value_b, xor_gate_output_value))\n",
        "    print(\"Input A: {0} NOT is {2}, Input B: {1} NOT is {3}\\n\".format(input_value_a, input_value_b, not_gate_a_output_value, not_gate_b_output_value))"
      ],
      "execution_count": null,
      "outputs": [
        {
          "output_type": "stream",
          "name": "stdout",
          "text": [
            "Input A: 01 AND Input B: 1111 is 0001\n",
            "\n",
            "Input A: 01 OR Input B: 1111 is 1111\n",
            "\n",
            "Input A: 01 XOR Input B: 1111 is 1110\n",
            "\n",
            "Input A: 01 NOT is 10, Input B: 1111 NOT is 0000\n",
            "\n",
            "Input A: 1010 AND Input B: 101 is 0000\n",
            "\n",
            "Input A: 1010 OR Input B: 101 is 1111\n",
            "\n",
            "Input A: 1010 XOR Input B: 101 is 1111\n",
            "\n",
            "Input A: 1010 NOT is 0101, Input B: 101 NOT is 010\n",
            "\n"
          ]
        }
      ]
    },
    {
      "cell_type": "markdown",
      "metadata": {
        "id": "W87oslT78_mX"
      },
      "source": [
        "## Question - 2\n",
        "Write Python code that does the following. \n",
        "\n",
        "- Create a function: **four_bit_unsigned_adder()**, Input: **input_value_a**, **input_value_b** where input_value_a and input_value_b should be unsigned four bit binary value but they may not always have 4 bits in which case we prefix the required number of 0's to make it of length 4, Ex: 01 is considered as 0001 This function should ADD the four bits and return the appropraite value. Note: The examples below show the decimal equivalent of the binary input inside paranthesis and their sum will be equal to the output_value binary which also when in decimal will be same the decimal equivalent of the input value addition.\n",
        "    - Ex: input_value_a = 1000 (8), input_value_b = 1010 (10) then input_value_a ADD input_value_b would result in output_value = 10010 (18)\n",
        "    - Ex: input_value_a = 1000 (8), input_value_b = 010 (2) then input_value_a ADD input_value_b would result in output_value = 01010 (10)\n",
        "\n",
        "**Conditions to follow:**\n",
        "- The output should be a string format similar to test cases mentioned below\n",
        "- **IMPORTANT: You cannot use any Python [mathematical operators](https://www.w3schools.com/python/gloss_python_arithmetic_operators.asp) in your solution.**\n",
        "- Inbuilt functions which require no import and Datatype methods can be used to solve this problem but No arbitray functions or library can be used.\n",
        "- No other function name can be defined/declared than the ones asked to be declared in any of the questions presented in this notebook. \n",
        "\n",
        "\n",
        "---\n",
        "\n",
        "TEST CASES:\n",
        "\n",
        "```\n",
        "Input A: 1000 ADDED Input B: 01 is 1001\n",
        "\n",
        "Input A: 1010 ADDED Input B: 0101 is 1111\n",
        "\n",
        "Input A: 1110 ADDED Input B: 0111 is 10101\n",
        "\n",
        "Input A: 010 ADDED Input B: 111 is 1001\n",
        "```\n",
        "---\n",
        "\n",
        "Hint: You can use built in methods and data type/string methods to create the solution to solve this problem. Consider using logic gates from question-1 and building a parallel adder. \n"
      ]
    },
    {
      "cell_type": "markdown",
      "metadata": {
        "id": "LzzKF1828_mi"
      },
      "source": [
        "### Code"
      ]
    },
    {
      "cell_type": "code",
      "metadata": {
        "id": "EH2P5qAD8_ml",
        "colab": {
          "base_uri": "https://localhost:8080/"
        },
        "outputId": "ebc13489-eaa7-4b4a-90c2-e6e38eae938b"
      },
      "source": [
        "# DECLARE the function four_bit_unsigned_adder()\n",
        "def four_bit_unsigned_adder(input_value_a, input_value_b):\n",
        "  # initializing a string to display the result\n",
        "    res = \"\"\n",
        "    # initializing a carry variable\n",
        "    carry = 0\n",
        "\n",
        "    # reversing both input a and b because you want to add them right to left instead of left to right\n",
        "    input_value_a, input_value_b = input_value_a[::-1], input_value_b[::-1]\n",
        "    \n",
        "    #iterating over the maximum length of either input variable a or b, depends which one is longer\n",
        "    #this will make it so that so that it will always end up in max bits\n",
        "    for x in range(max(len(input_value_a), len(input_value_b))):\n",
        "\n",
        "      #if x is less than the input value lenght, it will make basically take the string of the number and turns it into an integer, else, it will add 0\n",
        "      digitA = ord(input_value_a[x]) - ord(\"0\") if x < len(input_value_a) else 0\n",
        "      digitB = ord(input_value_b[x]) - ord(\"0\") if x < len(input_value_b) else 0\n",
        "\n",
        "      #this total variable essentially takes a + b + carry\n",
        "      total = digitA + digitB + carry\n",
        "      char = str(total % 2) # 0 + 1 + 0 = 1 1%2 = 1 which is the sum.  1+1+0 = 2 % 2 = 0 which is the sum.  Using str method bc cant add with integers\n",
        "      res = char + res #basically appending the string of each digit to res\n",
        "      carry = total // 2 #1+1 = 2. 2//2 = 1 (which is the carry)\n",
        "    if carry:\n",
        "      res = \"1\" + res # basically adding 1 to the result if there is a carry\n",
        "    return res\n",
        " \n",
        "\n",
        "### TEST CASES ###\n",
        "\n",
        "# Initialize the input values\n",
        "input_value_tuple_list = [('1000', '01'), ('1010', '0101'), ('1110', '0111'), ('010', '111')]\n",
        "for input_value_a, input_value_b in input_value_tuple_list:\n",
        "    # CALL the four_bit_unsigned_adder with required parameters\n",
        "    output_value = four_bit_unsigned_adder(input_value_a=input_value_a, input_value_b=input_value_b)\n",
        "    # Print the output\n",
        "    print(\"Input A: {0} ADDED Input B: {1} is {2}\\n\".format(input_value_a, input_value_b, output_value))"
      ],
      "execution_count": null,
      "outputs": [
        {
          "output_type": "stream",
          "name": "stdout",
          "text": [
            "Input A: 1000 ADDED Input B: 01 is 1001\n",
            "\n",
            "Input A: 1010 ADDED Input B: 0101 is 1111\n",
            "\n",
            "Input A: 1110 ADDED Input B: 0111 is 10101\n",
            "\n",
            "Input A: 010 ADDED Input B: 111 is 1001\n",
            "\n"
          ]
        }
      ]
    },
    {
      "cell_type": "markdown",
      "metadata": {
        "id": "TtUMJYQgACw9"
      },
      "source": [
        "# Subtractor\n",
        "Our objective is to understand and build Subtractor and Comparator that is able to add unsigned bits."
      ]
    },
    {
      "cell_type": "markdown",
      "metadata": {
        "id": "oJylM-f66jm9"
      },
      "source": [
        "## Question - 3\n",
        "Write Python code that does the following. \n",
        "\n",
        "- Create a function: **four_bit_unsigned_subtractor()**, Input: **input_value_a**, **input_value_b** where input_value_a and input_value_b should be unsigned four bit binary value but they may not always have 4 bits in which case we prefix the required number of 0's to make it of length 4, Ex: 01 is considered as 0001 This function should SUBTRACT the four bits and return the appropraite value, Here the output can be both a positive and negetive binary value. Note: The examples below show the decimal equivalent of the binary input inside paranthesis and their sum will be equal to the output_value binary which also when in decimal will be same the decimal equivalent of the input value addition. **Also not we will show the '+' or '-' symbol before the binary value to indicate if it a positive or negative value**\n",
        "\n",
        "    - Ex: input_value_a = 1000 (8), input_value_b = 1010 (10) then input_value_a SUBTRACT input_value_b would result in output_value = -0010 (-2)\n",
        "    - Ex: input_value_a = 1000 (8), input_value_b = 010 (2) then input_value_a ADD input_value_b would result in output_value = +0110 (6)\n",
        "\n",
        "**Conditions to follow:**\n",
        "- The output should be a string format similar to test cases mentioned below\n",
        "- **IMPORTANT: You cannot use any Python [mathematical operators](https://www.w3schools.com/python/gloss_python_arithmetic_operators.asp) in your solution.**\n",
        "- Inbuilt functions which require no import and Datatype methods can be used to solve this problem but No arbitray functions or library can be used.\n",
        "- No other function name can be defined/declared than the ones asked to be declared in any of the questions presented in this notebook. \n",
        "- The code you write should pass all the test cases given. \n",
        "\n",
        "\n",
        "---\n",
        "\n",
        "TEST CASES:\n",
        "\n",
        "```\n",
        "Input A: 111 SUBTRACTED Input B: 010 is +0101\n",
        "\n",
        "Input A: 1010 SUBTRACTED Input B: 0101 is +0101\n",
        "\n",
        "Input A: 1110 SUBTRACTED Input B: 0111 is +0111\n",
        "\n",
        "Input A: 010 SUBTRACTED Input B: 111 is -101\n",
        "```\n",
        "---\n",
        "\n",
        "Hint: You can use built in methods and data type/string methods to create the solution to solve this problem. Consider using logic gates from question-1 and building a parallel subtractor based on the logic of the parallel adder. "
      ]
    },
    {
      "cell_type": "markdown",
      "metadata": {
        "id": "WrjTc_Nm6jnB"
      },
      "source": [
        "### Code"
      ]
    },
    {
      "cell_type": "code",
      "metadata": {
        "id": "CGNgJjNZ6jnD",
        "colab": {
          "base_uri": "https://localhost:8080/"
        },
        "outputId": "122605ff-ca10-468a-8b60-28e1753b809b"
      },
      "source": [
        "# DECLARE the function four_bit_unsigned_subtractor()\n",
        "def four_bit_unsigned_subtractor(input_value_a, input_value_b):\n",
        "    # We will use a 4-bit parallel adder logic\n",
        "    input_value_a = input_value_a.zfill(4)\n",
        "    input_value_b = input_value_b.zfill(4)\n",
        "    # We will create 1's compliment of the input_value_b using by using XOR gate on each bit with 1\n",
        "    input_value_b = \"\".join([xor_gate(bit_b, '1')[-1] for bit_b in input_value_b])\n",
        "    # Initialize the output_value_list\n",
        "    output_value_list = []\n",
        "    # Initialize the carry from each addition which is initally 1 which should make the input_value_b into 2's compliment\n",
        "    carry = '1'\n",
        "    # Iterate over each bit and add them, We need to start operating from LSB to MSB\n",
        "    for bit_a, bit_b in zip(input_value_a[::-1], input_value_b[::-1]):\n",
        "        # SUM = A XOR B XOR Ci\n",
        "        sum = xor_gate(xor_gate(bit_a, bit_b)[-1], carry)[-1]\n",
        "        # Insert Sum at MSB\n",
        "        output_value_list.insert(0, sum)\n",
        "        # CARRY = A.B + B.C + C.A\n",
        "        a_and_b, b_and_c, c_and_a = and_gate(bit_a, bit_b)[-1], and_gate(bit_b, carry)[-1], and_gate(carry, bit_a)[-1]\n",
        "        carry = or_gate(or_gate(a_and_b, b_and_c)[-1], c_and_a)[-1]\n",
        "    if carry == '0':\n",
        "        output_value_list = [xor_gate(output_bit, '1')[-1] for output_bit in output_value_list]\n",
        "        output_value_list = list(four_bit_unsigned_adder(input_value_a=\"\".join(output_value_list), input_value_b='1')[-4:])\n",
        "        output_value_list.insert(0, '-')\n",
        "    else:\n",
        "        output_value_list.insert(0, '+')\n",
        "    # Return the output value as string\n",
        "    return \"\".join(output_value_list)\n",
        "\n",
        "### TEST CASES ###\n",
        "\n",
        "# Initialize the input values\n",
        "input_value_tuple_list = [('111', '010'), ('1010', '0101'), ('1110', '0111'), ('010', '111')]\n",
        "for input_value_a, input_value_b in input_value_tuple_list:\n",
        "    # CALL the four_bit_unsigned_subtractor with required parameters\n",
        "    output_value = four_bit_unsigned_subtractor(input_value_a=input_value_a, input_value_b=input_value_b)\n",
        "    # Print the output\n",
        "    print(\"Input A: {0} SUBTRACTED Input B: {1} is {2}\\n\".format(input_value_a, input_value_b, output_value))"
      ],
      "execution_count": null,
      "outputs": [
        {
          "output_type": "stream",
          "name": "stdout",
          "text": [
            "Input A: 111 SUBTRACTED Input B: 010 is +0101\n",
            "\n",
            "Input A: 1010 SUBTRACTED Input B: 0101 is +0101\n",
            "\n",
            "Input A: 1110 SUBTRACTED Input B: 0111 is +0111\n",
            "\n",
            "Input A: 010 SUBTRACTED Input B: 111 is -0101\n",
            "\n"
          ]
        }
      ]
    }
  ]
}